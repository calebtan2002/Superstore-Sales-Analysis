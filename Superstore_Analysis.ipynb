{
  "nbformat": 4,
  "nbformat_minor": 0,
  "metadata": {
    "colab": {
      "provenance": []
    },
    "kernelspec": {
      "name": "python3",
      "display_name": "Python 3"
    },
    "language_info": {
      "name": "python"
    }
  },
  "cells": [
    {
      "cell_type": "markdown",
      "source": [
        "# **Superstore Analysis with SQL**\n",
        "With growing demands and cut-throat competitions in the market, a Superstore Giant is seeking to understand what works best for them. They would like to **understand which products, regions, categories and customer segments they should target or avoid** (Taken from Kaggle).\n",
        "\n",
        "The dataset is **already cleaned** and is **suitable for analysis**."
      ],
      "metadata": {
        "id": "F6RVsYyAHib7"
      }
    },
    {
      "cell_type": "code",
      "execution_count": 8,
      "metadata": {
        "id": "CXBHLcRJZ8N5",
        "colab": {
          "base_uri": "https://localhost:8080/"
        },
        "outputId": "a6c84efd-3f2a-4f9e-d739-da43812e5942"
      },
      "outputs": [
        {
          "output_type": "stream",
          "name": "stdout",
          "text": [
            "   Row ID        Order ID           Order Date   Ship Date       Ship Mode  \\\n",
            "0       1  CA-2016-152156  2016-11-08 00:00:00  11/11/2016    Second Class   \n",
            "1       2  CA-2016-152156  2016-11-08 00:00:00  11/11/2016    Second Class   \n",
            "2       3  CA-2016-138688  2016-06-12 00:00:00   6/16/2016    Second Class   \n",
            "3       4  US-2015-108966  2015-10-11 00:00:00  10/18/2015  Standard Class   \n",
            "4       5  US-2015-108966  2015-10-11 00:00:00  10/18/2015  Standard Class   \n",
            "\n",
            "  Customer ID    Customer Name    Segment        Country             City  \\\n",
            "0    CG-12520      Claire Gute   Consumer  United States        Henderson   \n",
            "1    CG-12520      Claire Gute   Consumer  United States        Henderson   \n",
            "2    DV-13045  Darrin Van Huff  Corporate  United States      Los Angeles   \n",
            "3    SO-20335   Sean O'Donnell   Consumer  United States  Fort Lauderdale   \n",
            "4    SO-20335   Sean O'Donnell   Consumer  United States  Fort Lauderdale   \n",
            "\n",
            "   ... Postal Code  Region       Product ID         Category Sub-Category  \\\n",
            "0  ...       42420   South  FUR-BO-10001798        Furniture    Bookcases   \n",
            "1  ...       42420   South  FUR-CH-10000454        Furniture       Chairs   \n",
            "2  ...       90036    West  OFF-LA-10000240  Office Supplies       Labels   \n",
            "3  ...       33311   South  FUR-TA-10000577        Furniture       Tables   \n",
            "4  ...       33311   South  OFF-ST-10000760  Office Supplies      Storage   \n",
            "\n",
            "                                        Product Name     Sales  Quantity  \\\n",
            "0                  Bush Somerset Collection Bookcase  261.9600         2   \n",
            "1  Hon Deluxe Fabric Upholstered Stacking Chairs,...  731.9400         3   \n",
            "2  Self-Adhesive Address Labels for Typewriters b...   14.6200         2   \n",
            "3      Bretford CR4500 Series Slim Rectangular Table  957.5775         5   \n",
            "4                     Eldon Fold 'N Roll Cart System   22.3680         2   \n",
            "\n",
            "   Discount    Profit  \n",
            "0      0.00   41.9136  \n",
            "1      0.00  219.5820  \n",
            "2      0.00    6.8714  \n",
            "3      0.45 -383.0310  \n",
            "4      0.20    2.5164  \n",
            "\n",
            "[5 rows x 21 columns]\n"
          ]
        }
      ],
      "source": [
        "import sqlite3\n",
        "import pandas as pd\n",
        "\n",
        "csv_file = 'Superstore.csv'\n",
        "df = pd.read_csv(csv_file, encoding='ISO-8859-1')\n",
        "\n",
        "# Connect to an SQLite database (in-memory for temporary usage)\n",
        "connection = sqlite3.connect(':memory:')\n",
        "cursor = connection.cursor()\n",
        "\n",
        "# Load the DataFrame into a SQL table\n",
        "table_name = 'superstore_table'\n",
        "df['Order Date'] = pd.to_datetime(df['Order Date'], format='%m/%d/%Y', errors='coerce')\n",
        "df.to_sql('superstore_table', connection, if_exists='replace', index=False)\n",
        "\n",
        "query = \"SELECT * FROM superstore_table LIMIT 5\"\n",
        "result = pd.read_sql_query(query, connection)\n",
        "print(result)"
      ]
    },
    {
      "cell_type": "code",
      "source": [
        "query = \"\"\"\n",
        "SELECT strftime('%Y', \"Order Date\") AS year,\n",
        "       SUM(sales) AS total_sales,\n",
        "       SUM(profit) AS total_profit\n",
        "FROM superstore_table\n",
        "GROUP BY year\n",
        "ORDER BY year\n",
        "\"\"\"\n",
        "\n",
        "result = pd.read_sql_query(query, connection)\n",
        "print(result)\n"
      ],
      "metadata": {
        "colab": {
          "base_uri": "https://localhost:8080/"
        },
        "id": "sR1tAwFeeKt2",
        "outputId": "adeb919c-a089-41a3-b804-149626bcf76b"
      },
      "execution_count": 9,
      "outputs": [
        {
          "output_type": "stream",
          "name": "stdout",
          "text": [
            "   year  total_sales  total_profit\n",
            "0  2014  484247.4981    49543.9741\n",
            "1  2015  470532.5090    61618.6037\n",
            "2  2016  609205.5980    81795.1743\n",
            "3  2017  733215.2552    93439.2696\n"
          ]
        }
      ]
    },
    {
      "cell_type": "markdown",
      "source": [
        "From the above query, it can be seen that there has been a **steady increase in total profits over the years**, despite the total sales dropping slightly from 2014-2015. This indicates an improvement in profit margin from 2014 to 2015."
      ],
      "metadata": {
        "id": "8SThusN8IVP6"
      }
    },
    {
      "cell_type": "code",
      "source": [
        "query = \"\"\"\n",
        "SELECT strftime('%Y', \"Order Date\") AS year,\n",
        "       CASE\n",
        "           WHEN strftime('%m', \"Order Date\") IN ('01', '02', '03') THEN 'Q1'\n",
        "           WHEN strftime('%m', \"Order Date\") IN ('04', '05', '06') THEN 'Q2'\n",
        "           WHEN strftime('%m', \"Order Date\") IN ('07', '08', '09') THEN 'Q3'\n",
        "           ELSE 'Q4'\n",
        "       END AS quarter,\n",
        "       SUM(Sales) AS total_sales,\n",
        "       SUM(Profit) AS total_profit\n",
        "FROM superstore_table\n",
        "GROUP BY year, quarter\n",
        "ORDER BY year, quarter\n",
        "\"\"\"\n",
        "\n",
        "result = pd.read_sql_query(query, connection)\n",
        "print(result)\n"
      ],
      "metadata": {
        "colab": {
          "base_uri": "https://localhost:8080/"
        },
        "id": "dM0doELCeK0W",
        "outputId": "849c2219-3384-43a4-f8a4-4a791c5a37e9"
      },
      "execution_count": 15,
      "outputs": [
        {
          "output_type": "stream",
          "name": "stdout",
          "text": [
            "    year quarter  total_sales  total_profit\n",
            "0   2014      Q1   74447.7960     3811.2290\n",
            "1   2014      Q2   86538.7596    11204.0692\n",
            "2   2014      Q3  143633.2123    12804.7218\n",
            "3   2014      Q4  179627.7302    21723.9541\n",
            "4   2015      Q1   68851.7386     9264.9416\n",
            "5   2015      Q2   89124.1870    12190.9224\n",
            "6   2015      Q3  130259.5752    16853.6194\n",
            "7   2015      Q4  182297.0082    23309.1203\n",
            "8   2016      Q1   93237.1810    11441.3708\n",
            "9   2016      Q2  136082.3010    16390.3394\n",
            "10  2016      Q3  143787.3622    15823.6048\n",
            "11  2016      Q4  236098.7538    38139.8593\n",
            "12  2017      Q1  123144.8602    23506.2026\n",
            "13  2017      Q2  133764.3720    15499.2085\n",
            "14  2017      Q3  196251.9560    26985.1325\n",
            "15  2017      Q4  280054.0670    27448.7260\n"
          ]
        }
      ]
    },
    {
      "cell_type": "markdown",
      "source": [
        "The store achieved its **peak profitability during the fourth quarter** and its **lowest profits in the first quarter** across most years, with 2017 being the only exception to this pattern."
      ],
      "metadata": {
        "id": "ORuzZVhUJU76"
      }
    },
    {
      "cell_type": "code",
      "source": [
        "query = \"\"\"\n",
        "SELECT region, SUM(sales) AS total_sales, SUM(profit) AS total_profits\n",
        "FROM superstore_table\n",
        "GROUP BY region\n",
        "ORDER BY total_profits DESC;\n",
        "\"\"\"\n",
        "\n",
        "result = pd.read_sql_query(query, connection)\n",
        "print(result)"
      ],
      "metadata": {
        "colab": {
          "base_uri": "https://localhost:8080/"
        },
        "id": "3omH7MTnarLl",
        "outputId": "fee860a8-13e2-454f-cc71-16af766b1409"
      },
      "execution_count": 17,
      "outputs": [
        {
          "output_type": "stream",
          "name": "stdout",
          "text": [
            "    Region  total_sales  total_profits\n",
            "0     West  725457.8245    108418.4489\n",
            "1     East  678781.2400     91522.7800\n",
            "2    South  391721.9050     46749.4303\n",
            "3  Central  501239.8908     39706.3625\n"
          ]
        }
      ]
    },
    {
      "cell_type": "markdown",
      "source": [
        "The **West region generated the highest total sales and profits**, whereas the **Central region recorded the lowest figures**."
      ],
      "metadata": {
        "id": "HBb54UEGKRMt"
      }
    },
    {
      "cell_type": "code",
      "source": [
        "query = \"\"\"\n",
        "SELECT region, ROUND((SUM(Profit)/ SUM(Sales)) * 100, 2) AS profit_margin\n",
        "FROM superstore_table\n",
        "GROUP BY region\n",
        "ORDER BY profit_margin DESC;\n",
        "\"\"\"\n",
        "\n",
        "result = pd.read_sql_query(query, connection)\n",
        "print(result)"
      ],
      "metadata": {
        "colab": {
          "base_uri": "https://localhost:8080/"
        },
        "id": "rmPb9wuDarUW",
        "outputId": "e06de3ca-2497-418a-ad42-f0b7027946b6"
      },
      "execution_count": 20,
      "outputs": [
        {
          "output_type": "stream",
          "name": "stdout",
          "text": [
            "    Region  profit_margin\n",
            "0     West          14.94\n",
            "1     East          13.48\n",
            "2    South          11.93\n",
            "3  Central           7.92\n"
          ]
        }
      ]
    },
    {
      "cell_type": "markdown",
      "source": [
        "The **West has the highest profit margin** while the **Central has the lowest**."
      ],
      "metadata": {
        "id": "pNcaAa5LUJ2j"
      }
    },
    {
      "cell_type": "code",
      "source": [
        "query = \"\"\"\n",
        "SELECT State, SUM(Sales) as Total_Sales, SUM(Profit) as Total_Profits, ROUND((SUM(profit) / SUM(sales)) * 100, 2) as profit_margin\n",
        "FROM superstore_table\n",
        "GROUP BY State\n",
        "ORDER BY Total_Profits DESC\n",
        "LIMIT 10;\n",
        "\"\"\"\n",
        "\n",
        "result = pd.read_sql_query(query, connection)\n",
        "print(result)"
      ],
      "metadata": {
        "colab": {
          "base_uri": "https://localhost:8080/"
        },
        "id": "GrfujUJvarae",
        "outputId": "27a90d7a-b4c5-4bb3-9667-0824311be54e"
      },
      "execution_count": 22,
      "outputs": [
        {
          "output_type": "stream",
          "name": "stdout",
          "text": [
            "        State  Total_Sales  Total_Profits  profit_margin\n",
            "0  California  457687.6315     76381.3871          16.69\n",
            "1    New York  310876.2710     74038.5486          23.82\n",
            "2  Washington  138641.2700     33402.6517          24.09\n",
            "3    Michigan   76269.6140     24463.1876          32.07\n",
            "4    Virginia   70636.7200     18597.9504          26.33\n",
            "5     Indiana   53555.3600     18382.9363          34.33\n",
            "6     Georgia   49095.8400     16250.0433          33.10\n",
            "7    Kentucky   36591.7500     11199.6966          30.61\n",
            "8   Minnesota   29863.1500     10823.1874          36.24\n",
            "9    Delaware   27451.0690      9977.3748          36.35\n"
          ]
        }
      ]
    },
    {
      "cell_type": "markdown",
      "source": [
        "**California, New York and Washington are our most profitable markets**, but their profit margins are lower than average, indicating that their sales are so high that their overall profits are still higher than states with higher profit margins."
      ],
      "metadata": {
        "id": "Ajv8r-1kUYCg"
      }
    },
    {
      "cell_type": "code",
      "source": [
        "query = \"\"\"\n",
        "SELECT State, SUM(Sales) as Total_Sales, SUM(Profit) as Total_Profits, ROUND((SUM(profit) / SUM(sales)) * 100, 2) as profit_margin\n",
        "FROM superstore_table\n",
        "GROUP BY State\n",
        "ORDER BY Total_Profits ASC\n",
        "LIMIT 10;\n",
        "\"\"\"\n",
        "\n",
        "result = pd.read_sql_query(query, connection)\n",
        "print(result)"
      ],
      "metadata": {
        "colab": {
          "base_uri": "https://localhost:8080/"
        },
        "id": "yN7dXTjsdJjq",
        "outputId": "8c874738-ec6f-4bcb-8041-5a63fba9fa62"
      },
      "execution_count": 23,
      "outputs": [
        {
          "output_type": "stream",
          "name": "stdout",
          "text": [
            "            State  Total_Sales  Total_Profits  profit_margin\n",
            "0           Texas  170188.0458    -25729.3563         -15.12\n",
            "1            Ohio   78258.1360    -16971.3766         -21.69\n",
            "2    Pennsylvania  116511.9140    -15559.9603         -13.35\n",
            "3        Illinois   80166.1010    -12607.8870         -15.73\n",
            "4  North Carolina   55603.1640     -7490.9122         -13.47\n",
            "5        Colorado   32108.1180     -6527.8579         -20.33\n",
            "6       Tennessee   30661.8730     -5341.6936         -17.42\n",
            "7         Arizona   35282.0010     -3427.9246          -9.72\n",
            "8         Florida   89473.7080     -3399.3017          -3.80\n",
            "9          Oregon   17431.1500     -1190.4705          -6.83\n"
          ]
        }
      ]
    },
    {
      "cell_type": "markdown",
      "source": [
        "Among our markets, **Texas, Ohio, and Pennsylvania show the lowest profitability**. Texas and Pennsylvania are particularly concerning, as they generate substantial sales exceeding $100,000, with Texas even surpassing Washington's sales volume despite its poor profit performance."
      ],
      "metadata": {
        "id": "WaJXip_jV7e_"
      }
    },
    {
      "cell_type": "code",
      "source": [
        "query = \"\"\"\n",
        "SELECT Discount, AVG(Sales) AS Avg_Sales\n",
        "FROM superstore_table\n",
        "GROUP BY Discount\n",
        "ORDER BY Discount;\n",
        "\"\"\"\n",
        "\n",
        "result = pd.read_sql_query(query, connection)\n",
        "print(result)"
      ],
      "metadata": {
        "colab": {
          "base_uri": "https://localhost:8080/"
        },
        "id": "BXOOwl3Pdj5E",
        "outputId": "0cb0942d-79f4-485b-dde4-bf394a554269"
      },
      "execution_count": 24,
      "outputs": [
        {
          "output_type": "stream",
          "name": "stdout",
          "text": [
            "    Discount   Avg_Sales\n",
            "0       0.00  226.742074\n",
            "1       0.10  578.397351\n",
            "2       0.15  529.971567\n",
            "3       0.20  209.076940\n",
            "4       0.30  454.742974\n",
            "5       0.32  536.794770\n",
            "6       0.40  565.134874\n",
            "7       0.45  498.634000\n",
            "8       0.50  892.705152\n",
            "9       0.60   48.150000\n",
            "10      0.70   97.177708\n",
            "11      0.80   56.545853\n"
          ]
        }
      ]
    },
    {
      "cell_type": "markdown",
      "source": [
        "There **does not seem to a relationship between the discounts given and the average sales.**"
      ],
      "metadata": {
        "id": "HEB4W7MKWDM6"
      }
    },
    {
      "cell_type": "code",
      "source": [
        "query = \"\"\"\n",
        "SELECT category, SUM(discount) AS total_discount\n",
        "FROM superstore_table\n",
        "GROUP BY category\n",
        "ORDER BY total_discount DESC;\n",
        "\"\"\"\n",
        "\n",
        "result = pd.read_sql_query(query, connection)\n",
        "print(result)"
      ],
      "metadata": {
        "colab": {
          "base_uri": "https://localhost:8080/"
        },
        "id": "klGTsLBodj_N",
        "outputId": "35865078-6025-4c20-e4c6-2a77c1ce5acd"
      },
      "execution_count": 25,
      "outputs": [
        {
          "output_type": "stream",
          "name": "stdout",
          "text": [
            "          Category  total_discount\n",
            "0  Office Supplies          947.80\n",
            "1        Furniture          368.89\n",
            "2       Technology          244.40\n"
          ]
        }
      ]
    },
    {
      "cell_type": "markdown",
      "source": [
        "**Office supplies are the most discounted items followed by Furniture and Technology**"
      ],
      "metadata": {
        "id": "RiIh9RXiWYSQ"
      }
    },
    {
      "cell_type": "code",
      "source": [
        "query = \"\"\"\n",
        "SELECT category, \"Sub-Category\", SUM(discount) AS total_discount\n",
        "FROM superstore_table\n",
        "GROUP BY category, \"Sub-Category\"\n",
        "ORDER BY total_discount DESC;\n",
        "\"\"\"\n",
        "\n",
        "result = pd.read_sql_query(query, connection)\n",
        "print(result)"
      ],
      "metadata": {
        "colab": {
          "base_uri": "https://localhost:8080/"
        },
        "id": "FUesq17HdkDj",
        "outputId": "957a54a5-4474-4029-8d1e-573d4aafd99c"
      },
      "execution_count": 30,
      "outputs": [
        {
          "output_type": "stream",
          "name": "stdout",
          "text": [
            "           Category Sub-Category  total_discount\n",
            "0   Office Supplies      Binders          567.00\n",
            "1        Technology       Phones          137.40\n",
            "2         Furniture  Furnishings          132.40\n",
            "3         Furniture       Chairs          105.00\n",
            "4   Office Supplies        Paper          102.60\n",
            "5         Furniture       Tables           83.35\n",
            "6   Office Supplies   Appliances           77.60\n",
            "7   Office Supplies      Storage           63.20\n",
            "8        Technology  Accessories           60.80\n",
            "9   Office Supplies          Art           59.60\n",
            "10        Furniture    Bookcases           48.14\n",
            "11       Technology     Machines           35.20\n",
            "12  Office Supplies       Labels           25.00\n",
            "13  Office Supplies    Envelopes           20.40\n",
            "14  Office Supplies    Fasteners           17.80\n",
            "15  Office Supplies     Supplies           14.60\n",
            "16       Technology      Copiers           11.00\n"
          ]
        }
      ]
    },
    {
      "cell_type": "markdown",
      "source": [
        "**Binders receive significantly higher discounts compared to other products, with Phones and Furnishings being the next most discounted items, though at notably lower rates.**"
      ],
      "metadata": {
        "id": "fZwr3dgKWhBh"
      }
    },
    {
      "cell_type": "code",
      "source": [
        "query = \"\"\"\n",
        "SELECT category, SUM(sales) AS total_sales, SUM(profit) AS total_profit, ROUND(SUM(profit)/SUM(sales)*100, 2) AS profit_margin\n",
        "FROM superstore_table\n",
        "GROUP BY category\n",
        "ORDER BY total_profit DESC;\n",
        "\"\"\"\n",
        "\n",
        "result = pd.read_sql_query(query, connection)\n",
        "print(result)"
      ],
      "metadata": {
        "colab": {
          "base_uri": "https://localhost:8080/"
        },
        "id": "0b0ZbzcmdkF_",
        "outputId": "bd674be7-c84e-46be-acd5-b63d123c1dd5"
      },
      "execution_count": 31,
      "outputs": [
        {
          "output_type": "stream",
          "name": "stdout",
          "text": [
            "          Category  total_sales  total_profit  profit_margin\n",
            "0       Technology  836154.0330   145454.9481          17.40\n",
            "1  Office Supplies  719047.0320   122490.8008          17.04\n",
            "2        Furniture  741999.7953    18451.2728           2.49\n"
          ]
        }
      ]
    },
    {
      "cell_type": "markdown",
      "source": [
        "**Technology and Office Supplies are the best in terms of profits**"
      ],
      "metadata": {
        "id": "6FPK8OA1Wx-G"
      }
    },
    {
      "cell_type": "code",
      "source": [
        "query = \"\"\"\n",
        "SELECT region, category, SUM(sales) AS total_sales, SUM(profit) AS total_profit\n",
        "FROM superstore_table\n",
        "GROUP BY region, category\n",
        "ORDER BY total_profit DESC;\n",
        "\"\"\"\n",
        "\n",
        "result = pd.read_sql_query(query, connection)\n",
        "print(result)"
      ],
      "metadata": {
        "colab": {
          "base_uri": "https://localhost:8080/"
        },
        "id": "QkoBwKyqiClW",
        "outputId": "3159b511-9e8d-41f8-e628-514b0b67bedc"
      },
      "execution_count": 32,
      "outputs": [
        {
          "output_type": "stream",
          "name": "stdout",
          "text": [
            "     Region         Category  total_sales  total_profit\n",
            "0      West  Office Supplies  220853.2490    52609.8490\n",
            "1      East       Technology  264973.9810    47462.0351\n",
            "2      West       Technology  251991.8320    44303.6496\n",
            "3      East  Office Supplies  205516.0550    41014.5791\n",
            "4   Central       Technology  170416.3120    33697.4320\n",
            "5     South       Technology  148771.9080    19991.8314\n",
            "6     South  Office Supplies  125651.3130    19986.3928\n",
            "7      West        Furniture  252612.7435    11504.9503\n",
            "8   Central  Office Supplies  167026.4150     8879.9799\n",
            "9     South        Furniture  117298.6840     6771.2061\n",
            "10     East        Furniture  208291.2040     3046.1658\n",
            "11  Central        Furniture  163797.1638    -2871.0494\n"
          ]
        }
      ]
    },
    {
      "cell_type": "markdown",
      "source": [
        "Of our most profitable category-region combinations, the **West region stands out with both Office Supplies and Technology** making the top three, **alongside Technology in the East**. However, while most categories generate positive profits across regions, the **Central region's Furniture sales operate at a loss**, making it our only unprofitable category-region combination."
      ],
      "metadata": {
        "id": "QeqUM9jCW6L8"
      }
    },
    {
      "cell_type": "code",
      "source": [
        "query = \"\"\"\n",
        "SELECT state, category, SUM(sales) AS total_sales, SUM(profit) AS total_profit\n",
        "FROM superstore_table\n",
        "GROUP BY state, category\n",
        "ORDER BY total_profit DESC;\n",
        "\"\"\"\n",
        "\n",
        "result = pd.read_sql_query(query, connection)\n",
        "print(result)"
      ],
      "metadata": {
        "colab": {
          "base_uri": "https://localhost:8080/"
        },
        "id": "V95ZRd1aiCo2",
        "outputId": "b0292038-b13a-407e-9053-5de3078e47e7"
      },
      "execution_count": 33,
      "outputs": [
        {
          "output_type": "stream",
          "name": "stdout",
          "text": [
            "          State         Category  total_sales  total_profit\n",
            "0      New York       Technology  127483.5000    42186.7856\n",
            "1    California  Office Supplies  142351.9480    37748.3847\n",
            "2    California       Technology  159271.0820    29470.0368\n",
            "3      New York  Office Supplies   90020.0420    25994.0829\n",
            "4    Washington       Technology   50536.7100    15019.3435\n",
            "..          ...              ...          ...           ...\n",
            "137    Illinois  Office Supplies   19907.9060    -8354.1568\n",
            "138    Illinois        Furniture   28274.5220    -9076.2894\n",
            "139       Texas        Furniture   60593.2918   -10436.1419\n",
            "140        Ohio       Technology   35675.9920   -12649.9401\n",
            "141       Texas  Office Supplies   44490.5300   -18584.6434\n",
            "\n",
            "[142 rows x 4 columns]\n"
          ]
        }
      ]
    },
    {
      "cell_type": "markdown",
      "source": [
        "The table above shows the most and least performing categories in each of our states. **Technology in New York and Washington and Office Supplies in California are profitable overall**, while **Office supplies in Texas, Technology in Ohio and Furniture in Texas and Illinois are our biggest losses**."
      ],
      "metadata": {
        "id": "nRckA4aJb_HR"
      }
    },
    {
      "cell_type": "code",
      "source": [
        "query = \"\"\"\n",
        "SELECT \"sub-category\", SUM(sales) AS total_sales, SUM(profit) AS total_profit, ROUND(SUM(profit)/SUM(sales)*100, 2) AS profit_margin\n",
        "FROM superstore_table\n",
        "GROUP BY \"sub-category\"\n",
        "ORDER BY total_profit DESC;\n",
        "\"\"\"\n",
        "\n",
        "result = pd.read_sql_query(query, connection)\n",
        "print(result)"
      ],
      "metadata": {
        "colab": {
          "base_uri": "https://localhost:8080/"
        },
        "id": "9v8t-RFkiCvN",
        "outputId": "ab33f443-89e3-4f7f-9855-4aa2c3b59c23"
      },
      "execution_count": 36,
      "outputs": [
        {
          "output_type": "stream",
          "name": "stdout",
          "text": [
            "   Sub-Category  total_sales  total_profit  profit_margin\n",
            "0       Copiers  149528.0300    55617.8249          37.20\n",
            "1        Phones  330007.0540    44515.7306          13.49\n",
            "2   Accessories  167380.3180    41936.6357          25.05\n",
            "3         Paper   78479.2060    34053.5693          43.39\n",
            "4       Binders  203412.7330    30221.7633          14.86\n",
            "5        Chairs  328449.1030    26590.1663           8.10\n",
            "6       Storage  223843.6080    21278.8264           9.51\n",
            "7    Appliances  107532.1610    18138.0054          16.87\n",
            "8   Furnishings   91705.1640    13059.1436          14.24\n",
            "9     Envelopes   16476.4020     6964.1767          42.27\n",
            "10          Art   27118.7920     6527.7870          24.07\n",
            "11       Labels   12486.3120     5546.2540          44.42\n",
            "12     Machines  189238.6310     3384.7569           1.79\n",
            "13    Fasteners    3024.2800      949.5182          31.40\n",
            "14     Supplies   46673.5380    -1189.0995          -2.55\n",
            "15    Bookcases  114879.9963    -3472.5560          -3.02\n",
            "16       Tables  206965.5320   -17725.4811          -8.56\n"
          ]
        }
      ]
    },
    {
      "cell_type": "markdown",
      "source": [
        "From our 17 subcategories nationwide, **Copiers, Phones, Accessories, and Paper generate our highest profits**, with Copiers and Paper showing particularly promising profit margins for future growth. On the other hand, **Tables, Bookcases, and Supplies are operating at a loss**, failing to reach the break-even point."
      ],
      "metadata": {
        "id": "Qu5jj22sc60t"
      }
    },
    {
      "cell_type": "code",
      "source": [
        "query = \"\"\"\n",
        "SELECT state, \"sub-category\", SUM(sales) AS total_sales, SUM(profit) AS total_profit\n",
        "FROM superstore_table\n",
        "GROUP BY state, \"sub-category\"\n",
        "ORDER BY total_profit DESC;\n",
        "\"\"\"\n",
        "\n",
        "result = pd.read_sql_query(query, connection)\n",
        "print(result)"
      ],
      "metadata": {
        "colab": {
          "base_uri": "https://localhost:8080/"
        },
        "id": "GCvDHfXPCTq0",
        "outputId": "7823d78a-5d0a-4b29-fa18-ba8ba93fb5cb"
      },
      "execution_count": 39,
      "outputs": [
        {
          "output_type": "stream",
          "name": "stdout",
          "text": [
            "              State Sub-Category  total_sales  total_profit\n",
            "0          New York     Machines    43183.500    17320.0762\n",
            "1          New York       Phones    47502.620    13399.1892\n",
            "2          New York      Binders    32456.912    11096.0260\n",
            "3        California  Accessories    37255.010    11095.6565\n",
            "4          Michigan      Binders    22821.970    11079.5050\n",
            "..              ...          ...          ...           ...\n",
            "651  North Carolina     Machines    12620.655    -5384.8086\n",
            "652           Texas   Appliances     2407.814    -6147.2225\n",
            "653        Illinois      Binders     4538.546    -7204.3242\n",
            "654            Ohio     Machines     8978.238   -11770.9447\n",
            "655           Texas      Binders     9042.676   -14705.0738\n",
            "\n",
            "[656 rows x 4 columns]\n"
          ]
        }
      ]
    },
    {
      "cell_type": "markdown",
      "source": [
        "**New York sees strong performance in Machines, Phones, and Binders**. **California excels in Accessories and Binders**, while **Michigan favors Binders. Texas and Illinois experience significant losses in Binders**, and **Machines are entirely unprofitable in Ohio**."
      ],
      "metadata": {
        "id": "IdfmffJ-dgze"
      }
    },
    {
      "cell_type": "code",
      "source": [
        "query = \"\"\"\n",
        "SELECT \"Product Name\", SUM(sales) AS total_sales, SUM(profit) AS total_profit\n",
        "FROM superstore_table\n",
        "GROUP BY \"Product Name\"\n",
        "ORDER BY total_profit DESC;\n",
        "\"\"\"\n",
        "\n",
        "result = pd.read_sql_query(query, connection)\n",
        "print(result)"
      ],
      "metadata": {
        "colab": {
          "base_uri": "https://localhost:8080/"
        },
        "id": "RtNsz-M5DXTI",
        "outputId": "6447e4bf-420b-4c21-ef4d-6dea38fc01f6"
      },
      "execution_count": 42,
      "outputs": [
        {
          "output_type": "stream",
          "name": "stdout",
          "text": [
            "                                           Product Name  total_sales  \\\n",
            "0                 Canon imageCLASS 2200 Advanced Copier    61599.824   \n",
            "1     Fellowes PB500 Electric Punch Plastic Comb Bin...    27453.384   \n",
            "2                  Hewlett Packard LaserJet 3310 Copier    18839.686   \n",
            "3                    Canon PC1060 Personal Laser Copier    11619.834   \n",
            "4     HP Designjet T520 Inkjet Large Format Printer ...    18374.895   \n",
            "...                                                 ...          ...   \n",
            "1845  Bush Advantage Collection Racetrack Conference...     9544.725   \n",
            "1846  Chromcraft Bull-Nose Wood Oval Conference Tabl...     9917.640   \n",
            "1847          Cubify CubeX 3D Printer Triple Head Print     7999.980   \n",
            "1848          Lexmark MX611dhe Monochrome Laser Printer    16829.901   \n",
            "1849          Cubify CubeX 3D Printer Double Head Print    11099.963   \n",
            "\n",
            "      total_profit  \n",
            "0       25199.9280  \n",
            "1        7753.0390  \n",
            "2        6983.8836  \n",
            "3        4570.9347  \n",
            "4        4094.9766  \n",
            "...            ...  \n",
            "1845    -1934.3976  \n",
            "1846    -2876.1156  \n",
            "1847    -3839.9904  \n",
            "1848    -4589.9730  \n",
            "1849    -8879.9704  \n",
            "\n",
            "[1850 rows x 3 columns]\n"
          ]
        }
      ]
    },
    {
      "cell_type": "markdown",
      "source": [
        "Profitability heavily relies on copiers, machines, and printers. The **Canon imageClass 2200 Advanced Copier, Fellowes PB500 Electric Punch, and Hewlett Packard LaserJet 3310 Copier are the top-performing models**, contributing significantly to our bottom line."
      ],
      "metadata": {
        "id": "wyK0pIjjemEE"
      }
    },
    {
      "cell_type": "code",
      "source": [
        "query = \"\"\"\n",
        "SELECT \"Product Name\", SUM(sales) AS total_sales, SUM(profit) AS total_profit\n",
        "FROM superstore_table\n",
        "GROUP BY \"Product Name\"\n",
        "ORDER BY total_profit ASC;\n",
        "\"\"\"\n",
        "\n",
        "result = pd.read_sql_query(query, connection)\n",
        "print(result)"
      ],
      "metadata": {
        "colab": {
          "base_uri": "https://localhost:8080/"
        },
        "id": "-bAbLES5DXVh",
        "outputId": "a7617b02-0426-428e-cb30-a1df65ad1e8c"
      },
      "execution_count": 43,
      "outputs": [
        {
          "output_type": "stream",
          "name": "stdout",
          "text": [
            "                                           Product Name  total_sales  \\\n",
            "0             Cubify CubeX 3D Printer Double Head Print    11099.963   \n",
            "1             Lexmark MX611dhe Monochrome Laser Printer    16829.901   \n",
            "2             Cubify CubeX 3D Printer Triple Head Print     7999.980   \n",
            "3     Chromcraft Bull-Nose Wood Oval Conference Tabl...     9917.640   \n",
            "4     Bush Advantage Collection Racetrack Conference...     9544.725   \n",
            "...                                                 ...          ...   \n",
            "1845  HP Designjet T520 Inkjet Large Format Printer ...    18374.895   \n",
            "1846                 Canon PC1060 Personal Laser Copier    11619.834   \n",
            "1847               Hewlett Packard LaserJet 3310 Copier    18839.686   \n",
            "1848  Fellowes PB500 Electric Punch Plastic Comb Bin...    27453.384   \n",
            "1849              Canon imageCLASS 2200 Advanced Copier    61599.824   \n",
            "\n",
            "      total_profit  \n",
            "0       -8879.9704  \n",
            "1       -4589.9730  \n",
            "2       -3839.9904  \n",
            "3       -2876.1156  \n",
            "4       -1934.3976  \n",
            "...            ...  \n",
            "1845     4094.9766  \n",
            "1846     4570.9347  \n",
            "1847     6983.8836  \n",
            "1848     7753.0390  \n",
            "1849    25199.9280  \n",
            "\n",
            "[1850 rows x 3 columns]\n"
          ]
        }
      ]
    },
    {
      "cell_type": "markdown",
      "source": [
        "The **Cubify CubeX 3D Printer Double Head Print, Lexmark MX611dhe Monochrome Laser Printer, and Cubify CubeX 3D Printer Triple Head Print are our most unprofitable products**."
      ],
      "metadata": {
        "id": "pRuhzMLre02z"
      }
    },
    {
      "cell_type": "code",
      "source": [
        "query = \"\"\"\n",
        "SELECT segment, SUM(sales) AS total_sales, SUM(profit) AS total_profit\n",
        "FROM superstore_table\n",
        "GROUP BY segment\n",
        "ORDER BY total_profit DESC;\n",
        "\"\"\"\n",
        "\n",
        "result = pd.read_sql_query(query, connection)\n",
        "print(result)"
      ],
      "metadata": {
        "colab": {
          "base_uri": "https://localhost:8080/"
        },
        "id": "fbZjomAAECxD",
        "outputId": "1dcd33d8-8ea0-4514-9a85-69f6ac51f34c"
      },
      "execution_count": 44,
      "outputs": [
        {
          "output_type": "stream",
          "name": "stdout",
          "text": [
            "       Segment   total_sales  total_profit\n",
            "0     Consumer  1.161401e+06   134119.2092\n",
            "1    Corporate  7.061464e+05    91979.1340\n",
            "2  Home Office  4.296531e+05    60298.6785\n"
          ]
        }
      ]
    },
    {
      "cell_type": "markdown",
      "source": [
        "The **consumer segment brings in the most profit followed by Corporate and then Home office**."
      ],
      "metadata": {
        "id": "MirResHle-Rc"
      }
    },
    {
      "cell_type": "code",
      "source": [
        "query = \"\"\"\n",
        "SELECT state, COUNT(DISTINCT \"Customer ID\") AS total_customers\n",
        "FROM superstore_table\n",
        "GROUP BY state\n",
        "ORDER BY total_customers DESC;\n",
        "\"\"\"\n",
        "\n",
        "result = pd.read_sql_query(query, connection)\n",
        "print(result)"
      ],
      "metadata": {
        "colab": {
          "base_uri": "https://localhost:8080/"
        },
        "id": "ElOl1wm_FIII",
        "outputId": "f8f39633-36aa-492b-cf74-32f24d950d7c"
      },
      "execution_count": 47,
      "outputs": [
        {
          "output_type": "stream",
          "name": "stdout",
          "text": [
            "                   State  total_customers\n",
            "0             California              577\n",
            "1               New York              415\n",
            "2                  Texas              370\n",
            "3           Pennsylvania              257\n",
            "4               Illinois              237\n",
            "5             Washington              224\n",
            "6                   Ohio              202\n",
            "7                Florida              181\n",
            "8         North Carolina              122\n",
            "9               Virginia              107\n",
            "10              Michigan              106\n",
            "11               Arizona              100\n",
            "12             Tennessee               84\n",
            "13               Georgia               83\n",
            "14              Colorado               75\n",
            "15               Indiana               70\n",
            "16         Massachusetts               62\n",
            "17            New Jersey               61\n",
            "18              Kentucky               58\n",
            "19             Wisconsin               52\n",
            "20                Oregon               51\n",
            "21              Maryland               45\n",
            "22              Delaware               43\n",
            "23           Connecticut               43\n",
            "24             Minnesota               42\n",
            "25              Oklahoma               34\n",
            "26               Alabama               34\n",
            "27              Missouri               28\n",
            "28              Arkansas               27\n",
            "29                  Utah               26\n",
            "30          Rhode Island               25\n",
            "31           Mississippi               25\n",
            "32                Nevada               23\n",
            "33              Nebraska               23\n",
            "34            New Mexico               22\n",
            "35             Louisiana               21\n",
            "36        South Carolina               19\n",
            "37         New Hampshire               17\n",
            "38                  Iowa               17\n",
            "39                Kansas               14\n",
            "40                 Idaho               11\n",
            "41               Montana                8\n",
            "42               Vermont                5\n",
            "43          South Dakota                5\n",
            "44  District of Columbia                4\n",
            "45                 Maine                3\n",
            "46         West Virginia                2\n",
            "47          North Dakota                2\n",
            "48               Wyoming                1\n"
          ]
        }
      ]
    },
    {
      "cell_type": "markdown",
      "source": [
        "**California, New York, and Texas boast the highest customer concentration.** Conversely, **Wyoming, North Dakota, and West Virginia exhibit the lowest customer activity**."
      ],
      "metadata": {
        "id": "_8pN1tqwfBuh"
      }
    },
    {
      "cell_type": "code",
      "source": [
        "query = \"\"\"\n",
        "SELECT \"Customer ID\",\n",
        "SUM(sales) AS total_sales,\n",
        "SUM(profit) AS total_profit\n",
        "FROM superstore_table\n",
        "GROUP BY \"Customer ID\"\n",
        "ORDER BY total_sales DESC\n",
        "LIMIT 15;\n",
        "\"\"\"\n",
        "\n",
        "result = pd.read_sql_query(query, connection)\n",
        "print(result)"
      ],
      "metadata": {
        "colab": {
          "base_uri": "https://localhost:8080/"
        },
        "id": "dlYtstgBEC1m",
        "outputId": "eae376a5-63ad-4655-d99c-cfea55081a3d"
      },
      "execution_count": 48,
      "outputs": [
        {
          "output_type": "stream",
          "name": "stdout",
          "text": [
            "   Customer ID  total_sales  total_profit\n",
            "0     SM-20320    25043.050    -1980.7393\n",
            "1     TC-20980    19052.218     8981.3239\n",
            "2     RB-19360    15117.339     6976.0959\n",
            "3     TA-21385    14595.620     4703.7883\n",
            "4     AB-10105    14473.571     5444.8055\n",
            "5     KL-16645    14175.229      806.8550\n",
            "6     SC-20095    14142.334     5757.4119\n",
            "7     HL-15040    12873.298     5622.4292\n",
            "8     SE-20110    12209.438     2650.6769\n",
            "9     CC-12370    12129.072     2177.0493\n",
            "10    TS-21370    11891.751     2371.7144\n",
            "11    GT-14710    11820.120     2163.4269\n",
            "12    BM-11140    11789.630    -1659.9581\n",
            "13    SV-20365    11470.950     1199.4242\n",
            "14    CJ-12010    11164.974      858.7414\n"
          ]
        }
      ]
    },
    {
      "cell_type": "markdown",
      "source": [
        "**Customer ID 'SM-20320'** presents an interesting case. This customer has **spent the most** with us, yet they are **not profitable**. This situation warrants further investigation to understand the underlying reasons behind this discrepancy."
      ],
      "metadata": {
        "id": "p3c1FrUPfmjR"
      }
    },
    {
      "cell_type": "markdown",
      "source": [
        "# **Key Findings & Recommendations**\n",
        "\n",
        "## **Overall Performance:**\n",
        "\n",
        "**Positive Trajectory:** Profits have shown consistent growth, with a minor setback in 2015. This upward trend should be maintained.\n",
        "\n",
        "**Seasonal Strength:** Q4 consistently delivers the highest profits. Maximize this by ensuring adequate inventory, intensifying marketing efforts, and enhancing customer service during the October-December festive season.\n",
        "\n",
        "## **Regional Performance:**\n",
        "\n",
        "**West Dominates:** The West region is the most profitable, followed by East, South, and Central.\n",
        "\n",
        "**Central Region Focus:** While the Central region generates significant sales (>$100,000 more than South), profitability lags. Analyze and address the root causes to improve performance. Consider reallocating some resources from Central to the more profitable West region.\n",
        "\n",
        "## **Market-Level Performance:**\n",
        "\n",
        "**Key Markets:** California, New York, and Washington are high-profit, high-sales markets. Focus on strengthening presence in these key states.\n",
        "\n",
        "**Underperforming Markets:** Texas, Ohio, and Pennsylvania exhibit low profitability. Evaluate the need for reduced presence or potential market exit, especially in Texas and Pennsylvania where high sales fail to translate into profits.\n",
        "\n",
        "**City-Level Focus:** Prioritize high-profit cities like New York City, Los Angeles, and Seattle. Dominating key cities can significantly influence state-level performance.\n",
        "\n",
        "**Texas Re-evaluation:** The significant losses in Texas, particularly in two of the top three loss-making cities, necessitate a critical review of the company's strategy in this state.\n",
        "\n",
        "## **Product Category Performance:**\n",
        "\n",
        "**Top Performers:** Technology and Office Supplies demonstrate high profitability and attractive profit margins.\n",
        "\n",
        "**Furniture Review:** While generating sales, Furniture exhibits low profitability and margins. Conduct a thorough analysis to identify areas for improvement within this category.\n",
        "\n",
        "## **Regional Optimization:**\n",
        "\n",
        "**West:** Increase the focus on Office Supplies and Technology.\n",
        "\n",
        "**East:** Increase the focus on Office Supplies and Technology.\n",
        "\n",
        "**Central:** Minimize the focus on Furniture.\n",
        "\n",
        "## **State-Level Adjustments:**\n",
        "\n",
        "**Increase Focus:** Enhance the availability of Technology and Office Supplies in New York and California.\n",
        "\n",
        "**Reduce Focus:** Significantly reduce the availability of Office Supplies in Texas, Technology in Ohio, and Furniture in Texas and Illinois.\n",
        "\n",
        "## **Subcategory Performance:**\n",
        "\n",
        "**High-Profit Subcategories:** Copiers, Phones, Accessories, and Paper demonstrate strong profitability and long-term potential. Prioritize these products.\n",
        "\n",
        "**Loss-Making Subcategories:** Tables, Bookcases, and Supplies exhibit significant losses. Minimize investment in these areas, particularly Tables, which incur the highest losses.\n",
        "\n",
        "## **Regional Subcategory Focus:**\n",
        "\n",
        "**Increase Focus:** Prioritize Copiers, Accessories, and Binders in the West and East.\n",
        "\n",
        "**Reduce Focus:** Minimize focus on Tables in all regions and Furnishings in the Central region.\n",
        "\n",
        "## **State-Level Subcategory Focus:**\n",
        "\n",
        "**Increase Focus:** Emphasize Machines, Phones, and Binders in New York; Accessories and Binders in California; and Binders in Michigan.\n",
        "\n",
        "**Reduce Focus:** Decrease stock of Binders in Texas and Illinois, and Machines in Ohio.\n",
        "\n",
        "## **Product-Level Performance:**\n",
        "\n",
        "**Top-Performing Products:** Canon imageClass 2200 Advanced Copier, Fellowes PB500 Electric Punch, and Hewlett Packard LaserJet 3310 Copier consistently deliver high profits. Maintain adequate inventory levels.\n",
        "\n",
        "**Loss-Making Products:** Cubify CubeX 3D Printer Double Head Print, Lexmark MX611dhe Monochrome Laser Printer, and Cubify CubeX 3D Printer Triple Head Print consistently operate at a loss. Consider discontinuing these products.\n",
        "\n",
        "## **Customer Segment Performance:**\n",
        "\n",
        "**Consumer Focus:** The Consumer segment is the most profitable. Prioritize this segment while maintaining focus on Corporate and Home Office segments.\n",
        "\n",
        "## **Customer Base Analysis:**\n",
        "\n",
        "**Key Customer Markets:** California, New York, and Texas have the highest customer concentration.\n",
        "\n",
        "**Texas Re-evaluation:** Despite having a significant customer base, Texas exhibits low profitability. Conduct a thorough analysis to determine the most effective strategy for this market.\n",
        "\n",
        "**Focus on Key States:** Prioritize customer acquisition and retention strategies in California and New York.\n",
        "\n",
        "## **Overall Recommendations:**\n",
        "\n",
        "- Conduct a thorough market analysis in Texas to determine the optimal course of action.\n",
        "- Focus on improving profitability in the Central region.\n",
        "- Prioritize high-growth areas like California, New York, and Washington.\n",
        "- Optimize product mix across all regions and states.\n",
        "- Continuously monitor and adjust product offerings based on performance data.\n",
        "- Invest in customer service and marketing efforts, particularly during peak seasons."
      ],
      "metadata": {
        "id": "zxNDkMlagGd3"
      }
    }
  ]
}